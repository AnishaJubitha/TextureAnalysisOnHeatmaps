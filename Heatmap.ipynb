{
 "cells": [
  {
   "cell_type": "code",
   "execution_count": 1,
   "id": "e7109d59",
   "metadata": {},
   "outputs": [],
   "source": [
    "import pandas as pd\n",
    "import matplotlib.pyplot as plt\n",
    "import seaborn as sb\n",
    "import numpy as np\n",
    "import os\n",
    "from PIL import Image\n",
    "import array as arr\n",
    "from sklearn.preprocessing import MinMaxScaler\n",
    "import skimage.feature\n",
    "from skimage.feature import greycomatrix\n",
    "from skimage.filters import rank, try_all_threshold\n",
    "from skimage.morphology import disk"
   ]
  },
  {
   "cell_type": "code",
   "execution_count": null,
   "id": "7d520ab0",
   "metadata": {},
   "outputs": [],
   "source": []
  },
  {
   "cell_type": "markdown",
   "id": "81f3d442",
   "metadata": {},
   "source": [
    "# Read Hourly Dataset"
   ]
  },
  {
   "cell_type": "code",
   "execution_count": 2,
   "id": "0a0920cf",
   "metadata": {},
   "outputs": [],
   "source": [
    "HomeLi = [pd.read_csv(\"HrData1.csv\"),\n",
    "          pd.read_csv(\"HrData2.csv\"),\n",
    "          pd.read_csv(\"HrData3.csv\"),\n",
    "          pd.read_csv(\"HrData4.csv\"),\n",
    "          pd.read_csv(\"HrData5.csv\"),\n",
    "          pd.read_csv(\"HrData6.csv\"),\n",
    "          pd.read_csv(\"HrData7.csv\")]"
   ]
  },
  {
   "cell_type": "code",
   "execution_count": null,
   "id": "08eaae47",
   "metadata": {},
   "outputs": [],
   "source": []
  },
  {
   "cell_type": "markdown",
   "id": "80d55ed6",
   "metadata": {},
   "source": [
    "# Drop unwanted Columns"
   ]
  },
  {
   "cell_type": "code",
   "execution_count": 3,
   "id": "1c5bfefd",
   "metadata": {},
   "outputs": [],
   "source": [
    "for i in range(len(HomeLi)):\n",
    "    HomeLi[i].drop(['total','Unnamed: 0'],axis=1,inplace=True)"
   ]
  },
  {
   "cell_type": "code",
   "execution_count": null,
   "id": "24c00e03",
   "metadata": {},
   "outputs": [],
   "source": []
  },
  {
   "cell_type": "markdown",
   "id": "eaf86e30",
   "metadata": {},
   "source": [
    "# Remove errors & missing values"
   ]
  },
  {
   "cell_type": "code",
   "execution_count": 4,
   "id": "c2b5919e",
   "metadata": {},
   "outputs": [],
   "source": [
    "err = pd.DataFrame({'patient': [], 'column': [], 'row': []})\n",
    "\n",
    "for i in range(len(HomeLi)):\n",
    "    for j in range(1,12):\n",
    "        for k in range(len(HomeLi[i])):\n",
    "            if ((HomeLi[i].iloc[k,j])<0) or ((HomeLi[i].iloc[k,j])==None):\n",
    "                err.loc[len(err.index)] = [i, j, k]"
   ]
  },
  {
   "cell_type": "code",
   "execution_count": null,
   "id": "8ec23330",
   "metadata": {},
   "outputs": [],
   "source": []
  },
  {
   "cell_type": "markdown",
   "id": "321cef1a",
   "metadata": {},
   "source": [
    "# Seasonal normalisation"
   ]
  },
  {
   "cell_type": "code",
   "execution_count": 24,
   "id": "5f4103e1",
   "metadata": {},
   "outputs": [
    {
     "name": "stderr",
     "output_type": "stream",
     "text": [
      "C:\\Users\\Anisha Jubitha\\AppData\\Local\\Temp\\ipykernel_14580\\61845585.py:21: FutureWarning: The frame.append method is deprecated and will be removed from pandas in a future version. Use pandas.concat instead.\n",
      "  CSummer = CSummer.append(summer[s], ignore_index=True)\n",
      "C:\\Users\\Anisha Jubitha\\AppData\\Local\\Temp\\ipykernel_14580\\61845585.py:24: FutureWarning: The frame.append method is deprecated and will be removed from pandas in a future version. Use pandas.concat instead.\n",
      "  CAutumn = CAutumn.append(autumn[s], ignore_index=True)\n",
      "C:\\Users\\Anisha Jubitha\\AppData\\Local\\Temp\\ipykernel_14580\\61845585.py:27: FutureWarning: The frame.append method is deprecated and will be removed from pandas in a future version. Use pandas.concat instead.\n",
      "  Cwinter = Cwinter.append(winter[s], ignore_index=True)\n",
      "C:\\Users\\Anisha Jubitha\\AppData\\Local\\Temp\\ipykernel_14580\\61845585.py:30: FutureWarning: The frame.append method is deprecated and will be removed from pandas in a future version. Use pandas.concat instead.\n",
      "  Cspring = Cspring.append(spring[s], ignore_index=True)\n",
      "C:\\Users\\Anisha Jubitha\\AppData\\Local\\Temp\\ipykernel_14580\\61845585.py:65: FutureWarning: The frame.append method is deprecated and will be removed from pandas in a future version. Use pandas.concat instead.\n",
      "  Patient = Patient.append(summerNew, ignore_index=True)\n",
      "C:\\Users\\Anisha Jubitha\\AppData\\Local\\Temp\\ipykernel_14580\\61845585.py:66: FutureWarning: The frame.append method is deprecated and will be removed from pandas in a future version. Use pandas.concat instead.\n",
      "  Patient = Patient.append(autumnNew, ignore_index=True)\n",
      "C:\\Users\\Anisha Jubitha\\AppData\\Local\\Temp\\ipykernel_14580\\61845585.py:67: FutureWarning: The frame.append method is deprecated and will be removed from pandas in a future version. Use pandas.concat instead.\n",
      "  Patient = Patient.append(winterNew, ignore_index=True)\n",
      "C:\\Users\\Anisha Jubitha\\AppData\\Local\\Temp\\ipykernel_14580\\61845585.py:68: FutureWarning: The frame.append method is deprecated and will be removed from pandas in a future version. Use pandas.concat instead.\n",
      "  Patient = Patient.append(springNew, ignore_index=True)\n"
     ]
    }
   ],
   "source": [
    "#Change i from 0 to 6 for patient datasets\n",
    "\n",
    "\n",
    "summer = []\n",
    "autumn = []\n",
    "winter = []\n",
    "spring = []\n",
    "\n",
    "for i in range(4,5):\n",
    "    for j in range(0,len(HomeLi[i]),24):\n",
    "        month = HomeLi[i].iloc[j,0]\n",
    "        if month[5:7] == '08' or month[5:7] == '06' or month[5:7] == '07':\n",
    "            summer.append(HomeLi[i][j:j+24])\n",
    "        if month[5:7] == '09' or month[5:7] == '10' or month[5:7] == '11':\n",
    "            autumn.append(HomeLi[i][j:j+24])\n",
    "        if month[5:7] == '12' or month[5:7] == '01' or month[5:7] == '02':\n",
    "            winter.append(HomeLi[i][j:j+24])\n",
    "        if month[5:7] == '03' or month[5:7] == '04' or month[5:7] == '05':\n",
    "            spring.append(HomeLi[i][j:j+24])\n",
    "            \n",
    "            \n",
    "CSummer = pd.DataFrame()\n",
    "for s in range(0,len(summer)):\n",
    "    CSummer = CSummer.append(summer[s], ignore_index=True)\n",
    "CAutumn = pd.DataFrame()\n",
    "for s in range(0,len(autumn)):\n",
    "    CAutumn = CAutumn.append(autumn[s], ignore_index=True)\n",
    "Cwinter = pd.DataFrame()\n",
    "for s in range(0,len(winter)):\n",
    "    Cwinter = Cwinter.append(winter[s], ignore_index=True)\n",
    "Cspring = pd.DataFrame()\n",
    "for s in range(0,len(spring)):\n",
    "    Cspring = Cspring.append(spring[s], ignore_index=True)\n",
    "    \n",
    "\n",
    "TimeSummer = CSummer.iloc[:,0:2]\n",
    "TimeAutumn = CAutumn.iloc[:,0:2]\n",
    "TimeSpring = Cspring.iloc[:,0:2]\n",
    "TimeWinter = Cwinter.iloc[:,0:2]\n",
    "\n",
    "\n",
    "CSummer.drop(['date','hour'],axis=1,inplace=True)\n",
    "CAutumn.drop(['date','hour'],axis=1,inplace=True)\n",
    "Cwinter.drop(['date','hour'],axis=1,inplace=True)\n",
    "Cspring.drop(['date','hour'],axis=1,inplace=True)\n",
    "\n",
    "\n",
    "Smin_value, Smax_value = CSummer.min().min(), CSummer.max().max()\n",
    "Summerscaled1 = (CSummer - Smin_value) * 1 / (Smax_value - Smin_value)\n",
    "\n",
    "Amin_value, Amax_value = CAutumn.min().min(), CAutumn.max().max()\n",
    "Autumnscaled1 = (CAutumn - Amin_value) * 1 / (Amax_value - Amin_value)\n",
    "\n",
    "Wmin_value, Wmax_value = Cwinter.min().min(), Cwinter.max().max()\n",
    "Winterscaled1 = (Cwinter - Wmin_value) * 1 / (Wmax_value - Wmin_value)\n",
    "\n",
    "Spmin_value, Spmax_value = Cspring.min().min(), Cspring.max().max()\n",
    "Springscaled1 = (Cspring - Spmin_value) * 1 / (Spmax_value - Spmin_value)\n",
    "\n",
    "\n",
    "summerNew = pd.concat([TimeSummer, Summerscaled1], axis=1)\n",
    "autumnNew = pd.concat([TimeAutumn, Autumnscaled1], axis=1)\n",
    "winterNew = pd.concat([TimeWinter, Winterscaled1], axis=1)\n",
    "springNew = pd.concat([TimeSpring, Springscaled1], axis=1)\n",
    "\n",
    "\n",
    "Patient = pd.DataFrame()\n",
    "Patient = Patient.append(summerNew, ignore_index=True)\n",
    "Patient = Patient.append(autumnNew, ignore_index=True)\n",
    "Patient = Patient.append(winterNew, ignore_index=True)\n",
    "Patient = Patient.append(springNew, ignore_index=True)"
   ]
  },
  {
   "cell_type": "code",
   "execution_count": null,
   "id": "663edf13",
   "metadata": {},
   "outputs": [],
   "source": []
  },
  {
   "cell_type": "markdown",
   "id": "34538196",
   "metadata": {},
   "source": [
    "# Generate Heatmaps"
   ]
  },
  {
   "cell_type": "code",
   "execution_count": null,
   "id": "6d9910b9",
   "metadata": {},
   "outputs": [],
   "source": [
    "for j in range(0,len(Patient),24):\n",
    "    df = pd.DataFrame(Patient[j:j+24])\n",
    "        \n",
    "    df = pd.pivot_table(Patient[j:j+24],index = 'hour') \n",
    "    mms = MinMaxScaler()\n",
    "    df_norm = mms.fit_transform(df)\n",
    "        \n",
    "    normalised_hmap = sb.heatmap(df_norm, linewidths=.5, cmap='viridis', cbar=False, xticklabels=['backdoor', 'bathroom', 'lounge', 'frontdoor', 'bedroom', 'kettle', 'hallway',  'kitchen', 'fridgedoor', 'backdoor', 'oven'])\n",
    "    fig = normalised_hmap.get_figure()\n",
    "    fig.savefig(\"HM4/hour\"+str(j)+\".png\",bbox_inches =\"tight\")"
   ]
  },
  {
   "cell_type": "code",
   "execution_count": null,
   "id": "b89cac36",
   "metadata": {},
   "outputs": [],
   "source": []
  }
 ],
 "metadata": {
  "kernelspec": {
   "display_name": "Python 3 (ipykernel)",
   "language": "python",
   "name": "python3"
  },
  "language_info": {
   "codemirror_mode": {
    "name": "ipython",
    "version": 3
   },
   "file_extension": ".py",
   "mimetype": "text/x-python",
   "name": "python",
   "nbconvert_exporter": "python",
   "pygments_lexer": "ipython3",
   "version": "3.8.12"
  }
 },
 "nbformat": 4,
 "nbformat_minor": 5
}
